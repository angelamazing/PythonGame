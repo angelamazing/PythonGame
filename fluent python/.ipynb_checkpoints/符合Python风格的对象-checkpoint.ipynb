{
 "cells": [
  {
   "cell_type": "markdown",
   "id": "8025e831",
   "metadata": {},
   "source": [
    "# 对象表示形式\n",
    "1. 每门面向对象的语言至少都有一种获取对象的字符串表示形式的标准方式\n",
    "2. repr 便于开发者\n",
    "3. str 便于用户"
   ]
  },
  {
   "cell_type": "markdown",
   "id": "8fe9ee63",
   "metadata": {},
   "source": [
    "# 再谈向量类"
   ]
  },
  {
   "cell_type": "code",
   "execution_count": null,
   "id": "5f8be3c9",
   "metadata": {},
   "outputs": [],
   "source": []
  }
 ],
 "metadata": {
  "kernelspec": {
   "display_name": "py39",
   "language": "python",
   "name": "py39"
  },
  "language_info": {
   "codemirror_mode": {
    "name": "ipython",
    "version": 3
   },
   "file_extension": ".py",
   "mimetype": "text/x-python",
   "name": "python",
   "nbconvert_exporter": "python",
   "pygments_lexer": "ipython3",
   "version": "3.9.0"
  }
 },
 "nbformat": 4,
 "nbformat_minor": 5
}
