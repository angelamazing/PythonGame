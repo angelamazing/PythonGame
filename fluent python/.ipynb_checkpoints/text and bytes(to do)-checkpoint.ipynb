{
 "cells": [
  {
   "cell_type": "markdown",
   "id": "6ff4a8ca",
   "metadata": {},
   "source": [
    "# 字符问题\n",
    "1. “字符串”是个相当简单的概念：一个字符串是一个字符序列。问题出在“字符”的定义上。"
   ]
  },
  {
   "cell_type": "code",
   "execution_count": null,
   "id": "6cdee9cb",
   "metadata": {},
   "outputs": [],
   "source": []
  },
  {
   "cell_type": "code",
   "execution_count": null,
   "id": "d12c252e",
   "metadata": {},
   "outputs": [],
   "source": []
  }
 ],
 "metadata": {
  "kernelspec": {
   "display_name": "py39",
   "language": "python",
   "name": "py39"
  },
  "language_info": {
   "codemirror_mode": {
    "name": "ipython",
    "version": 3
   },
   "file_extension": ".py",
   "mimetype": "text/x-python",
   "name": "python",
   "nbconvert_exporter": "python",
   "pygments_lexer": "ipython3",
   "version": "3.9.0"
  }
 },
 "nbformat": 4,
 "nbformat_minor": 5
}
