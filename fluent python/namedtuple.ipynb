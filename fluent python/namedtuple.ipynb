{
 "cells": [
  {
   "cell_type": "code",
   "execution_count": 11,
   "id": "ef6268be",
   "metadata": {},
   "outputs": [],
   "source": [
    "import collections"
   ]
  },
  {
   "cell_type": "markdown",
   "id": "92c6691d",
   "metadata": {},
   "source": [
    "### nametuple\n",
    "1. namedtuple 接受两个参数：类型名称和字段名称\n",
    "2. 命名字段访问\n",
    "3. 不可变性\n",
    "4. 兼容元组操作"
   ]
  },
  {
   "cell_type": "code",
   "execution_count": 12,
   "id": "1c798a53",
   "metadata": {},
   "outputs": [],
   "source": [
    "Card = collections.namedtuple('Card', ['rank', 'suit'])"
   ]
  },
  {
   "cell_type": "code",
   "execution_count": 13,
   "id": "84c90bea",
   "metadata": {},
   "outputs": [],
   "source": [
    "beer_card = Card('7', 'diamonds')"
   ]
  },
  {
   "cell_type": "code",
   "execution_count": 14,
   "id": "8cec368c",
   "metadata": {},
   "outputs": [
    {
     "data": {
      "text/plain": [
       "('7', 'diamonds')"
      ]
     },
     "execution_count": 14,
     "metadata": {},
     "output_type": "execute_result"
    }
   ],
   "source": [
    "beer_card.rank,beer_card.suit"
   ]
  },
  {
   "cell_type": "code",
   "execution_count": 18,
   "id": "a79fcff8",
   "metadata": {},
   "outputs": [],
   "source": [
    "XY = collections.namedtuple('XY',['X','Y'])"
   ]
  },
  {
   "cell_type": "code",
   "execution_count": 19,
   "id": "1f10b1a1",
   "metadata": {},
   "outputs": [],
   "source": [
    "cood1 = XY(1,2)"
   ]
  },
  {
   "cell_type": "code",
   "execution_count": 20,
   "id": "443509a8",
   "metadata": {},
   "outputs": [
    {
     "data": {
      "text/plain": [
       "(1, 2)"
      ]
     },
     "execution_count": 20,
     "metadata": {},
     "output_type": "execute_result"
    }
   ],
   "source": [
    "cood1.X,cood1.Y"
   ]
  },
  {
   "cell_type": "code",
   "execution_count": 21,
   "id": "431f428b",
   "metadata": {},
   "outputs": [
    {
     "name": "stdout",
     "output_type": "stream",
     "text": [
      "1\n",
      "2\n"
     ]
    }
   ],
   "source": [
    "for value in cood1:\n",
    "    print(value)"
   ]
  },
  {
   "cell_type": "code",
   "execution_count": null,
   "id": "b22e4bc2",
   "metadata": {},
   "outputs": [],
   "source": []
  }
 ],
 "metadata": {
  "kernelspec": {
   "display_name": "py39",
   "language": "python",
   "name": "py39"
  },
  "language_info": {
   "codemirror_mode": {
    "name": "ipython",
    "version": 3
   },
   "file_extension": ".py",
   "mimetype": "text/x-python",
   "name": "python",
   "nbconvert_exporter": "python",
   "pygments_lexer": "ipython3",
   "version": "3.9.0"
  }
 },
 "nbformat": 4,
 "nbformat_minor": 5
}
