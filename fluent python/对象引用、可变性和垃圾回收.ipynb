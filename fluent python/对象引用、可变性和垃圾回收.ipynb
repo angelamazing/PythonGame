{
 "cells": [
  {
   "cell_type": "markdown",
   "id": "f8b8c45f",
   "metadata": {},
   "source": [
    "# 变量不是盒子 而是标签"
   ]
  },
  {
   "cell_type": "markdown",
   "id": "eee195df",
   "metadata": {},
   "source": [
    "# 标识、相等性和别名\n",
    "1. id\n",
    "2. is == "
   ]
  },
  {
   "cell_type": "markdown",
   "id": "b18bf270",
   "metadata": {},
   "source": [
    "### 元组的相对不可变性"
   ]
  },
  {
   "cell_type": "code",
   "execution_count": 10,
   "id": "2c24965b",
   "metadata": {},
   "outputs": [],
   "source": [
    "t1 = (1, 2, [30, 40]) \n",
    "t2 = (1, 2, [30, 40])"
   ]
  },
  {
   "cell_type": "code",
   "execution_count": 11,
   "id": "9187f55b",
   "metadata": {},
   "outputs": [
    {
     "data": {
      "text/plain": [
       "(True, False)"
      ]
     },
     "execution_count": 11,
     "metadata": {},
     "output_type": "execute_result"
    }
   ],
   "source": [
    "t1 == t2, t1 is t2"
   ]
  },
  {
   "cell_type": "code",
   "execution_count": 13,
   "id": "382159ea",
   "metadata": {},
   "outputs": [
    {
     "data": {
      "text/plain": [
       "(2350898788736, None)"
      ]
     },
     "execution_count": 13,
     "metadata": {},
     "output_type": "execute_result"
    }
   ],
   "source": [
    "id(t1[-1]), t1[-1].append(99)"
   ]
  },
  {
   "cell_type": "code",
   "execution_count": 14,
   "id": "6f9a9a6e",
   "metadata": {},
   "outputs": [
    {
     "data": {
      "text/plain": [
       "((1, 2, [30, 40, 99]), 2350898788736)"
      ]
     },
     "execution_count": 14,
     "metadata": {},
     "output_type": "execute_result"
    }
   ],
   "source": [
    "t1,id(t1[-1])"
   ]
  },
  {
   "cell_type": "markdown",
   "id": "171fd82b",
   "metadata": {},
   "source": [
    "# 默认做浅复制\n",
    "1. 不变的元素\n",
    "2. 可变的元素"
   ]
  },
  {
   "cell_type": "code",
   "execution_count": 15,
   "id": "6fb08ba7",
   "metadata": {},
   "outputs": [
    {
     "data": {
      "text/plain": [
       "([3, [55, 44], (7, 8, 9)], [3, [55, 44], (7, 8, 9)])"
      ]
     },
     "execution_count": 15,
     "metadata": {},
     "output_type": "execute_result"
    }
   ],
   "source": [
    "l1 = [3, [55, 44], (7, 8, 9)]\n",
    "l2 = list(l1)\n",
    "l1,l2"
   ]
  },
  {
   "cell_type": "code",
   "execution_count": 16,
   "id": "408c2e5c",
   "metadata": {},
   "outputs": [
    {
     "data": {
      "text/plain": [
       "(True, False)"
      ]
     },
     "execution_count": 16,
     "metadata": {},
     "output_type": "execute_result"
    }
   ],
   "source": [
    "l2 == l1,l2 is l1"
   ]
  },
  {
   "cell_type": "code",
   "execution_count": 17,
   "id": "b662a2d2",
   "metadata": {},
   "outputs": [],
   "source": [
    "l1[1].append(3)"
   ]
  },
  {
   "cell_type": "code",
   "execution_count": 20,
   "id": "79063a74",
   "metadata": {},
   "outputs": [
    {
     "data": {
      "text/plain": [
       "[3, [55, 44, 3], (7, 8, 9)]"
      ]
     },
     "execution_count": 20,
     "metadata": {},
     "output_type": "execute_result"
    }
   ],
   "source": [
    "l1"
   ]
  },
  {
   "cell_type": "code",
   "execution_count": 21,
   "id": "e6fec809",
   "metadata": {},
   "outputs": [
    {
     "data": {
      "text/plain": [
       "[3, [55, 44, 3], (7, 8, 9)]"
      ]
     },
     "execution_count": 21,
     "metadata": {},
     "output_type": "execute_result"
    }
   ],
   "source": [
    "l2"
   ]
  },
  {
   "cell_type": "markdown",
   "id": "7ae4a6ea",
   "metadata": {},
   "source": [
    "# 为任意对象做深复制和浅复制\n",
    "1. from copy import deepcopy"
   ]
  },
  {
   "cell_type": "markdown",
   "id": "5515927c",
   "metadata": {},
   "source": [
    "# 函数的参数作为引用时\n",
    "1. Python 唯一支持的参数传递模式是共享传参（call by sharing）\n",
    "2. 多数面向对象语言都采用这一模式，包括 Ruby、Smalltalk 和 Java（Java 的引用类型是这样，基本类型按值传参）\n",
    "3. 共享传参指函数的各个形式参数获得实参中各个引用的副本,就是说，函数内部的形参是实参的别名"
   ]
  },
  {
   "cell_type": "code",
   "execution_count": 26,
   "id": "7c93a16b",
   "metadata": {},
   "outputs": [
    {
     "data": {
      "text/plain": [
       "3"
      ]
     },
     "execution_count": 26,
     "metadata": {},
     "output_type": "execute_result"
    }
   ],
   "source": [
    "def f(a,b):\n",
    "    a += b # 传进来的如果是不可变的，这里会重新出现一个新的局部变量名字叫a，但是处于f这里面的\n",
    "    return a\n",
    "\n",
    "x = 1\n",
    "y = 2\n",
    "f(x,y)"
   ]
  },
  {
   "cell_type": "code",
   "execution_count": 25,
   "id": "0fae9fc4",
   "metadata": {},
   "outputs": [
    {
     "data": {
      "text/plain": [
       "1"
      ]
     },
     "execution_count": 25,
     "metadata": {},
     "output_type": "execute_result"
    }
   ],
   "source": [
    "x"
   ]
  },
  {
   "cell_type": "code",
   "execution_count": 27,
   "id": "81b86459",
   "metadata": {},
   "outputs": [
    {
     "data": {
      "text/plain": [
       "[1, 2, 3, 4, 5]"
      ]
     },
     "execution_count": 27,
     "metadata": {},
     "output_type": "execute_result"
    }
   ],
   "source": [
    "a = [1,2,3]\n",
    "b = [4,5]\n",
    "f(a,b)"
   ]
  },
  {
   "cell_type": "code",
   "execution_count": 28,
   "id": "71375a46",
   "metadata": {},
   "outputs": [
    {
     "data": {
      "text/plain": [
       "[1, 2, 3, 4, 5]"
      ]
     },
     "execution_count": 28,
     "metadata": {},
     "output_type": "execute_result"
    }
   ],
   "source": [
    "a # 这里a就会发生变化"
   ]
  },
  {
   "cell_type": "markdown",
   "id": "8c78202f",
   "metadata": {},
   "source": [
    "### 不要使用可变类型作为参数的默认值"
   ]
  },
  {
   "cell_type": "code",
   "execution_count": 29,
   "id": "51c9c291",
   "metadata": {},
   "outputs": [],
   "source": [
    "class HauntedBus:\n",
    "    \"\"\"备受幽灵乘客折磨的校车\"\"\"\n",
    "    def __init__(self, passengers=[]): \n",
    "        self.passengers = passengers \n",
    "    def pick(self, name):\n",
    "        self.passengers.append(name) \n",
    "    def drop(self, name):\n",
    "        self.passengers.remove(name)"
   ]
  },
  {
   "cell_type": "code",
   "execution_count": 30,
   "id": "baa22762",
   "metadata": {},
   "outputs": [
    {
     "data": {
      "text/plain": [
       "['Alice', 'Bill']"
      ]
     },
     "execution_count": 30,
     "metadata": {},
     "output_type": "execute_result"
    }
   ],
   "source": [
    "bus1 = HauntedBus(['Alice', 'Bill'])\n",
    "bus1.passengers"
   ]
  },
  {
   "cell_type": "code",
   "execution_count": 31,
   "id": "2d7ef080",
   "metadata": {},
   "outputs": [
    {
     "data": {
      "text/plain": [
       "['Alice', 'Bill', 'Charlie']"
      ]
     },
     "execution_count": 31,
     "metadata": {},
     "output_type": "execute_result"
    }
   ],
   "source": [
    "bus1.pick('Charlie')\n",
    "bus1.passengers"
   ]
  },
  {
   "cell_type": "code",
   "execution_count": 32,
   "id": "2ee82bc9",
   "metadata": {},
   "outputs": [
    {
     "data": {
      "text/plain": [
       "['Mike']"
      ]
     },
     "execution_count": 32,
     "metadata": {},
     "output_type": "execute_result"
    }
   ],
   "source": [
    "bus2 = HauntedBus()\n",
    "bus2.pick('Mike')\n",
    "bus2.passengers"
   ]
  },
  {
   "cell_type": "code",
   "execution_count": 33,
   "id": "02f42fe0",
   "metadata": {},
   "outputs": [
    {
     "data": {
      "text/plain": [
       "['Mike']"
      ]
     },
     "execution_count": 33,
     "metadata": {},
     "output_type": "execute_result"
    }
   ],
   "source": [
    "bus3 = HauntedBus()\n",
    "bus3.passengers"
   ]
  },
  {
   "cell_type": "markdown",
   "id": "84807aaf",
   "metadata": {},
   "source": [
    "为什么这里会出现mike，是因为前面bus是默认初始化，幽灵的[]它是固定（不是不变）的，上面添加后，bus3的默认初始化已经是改变了的[]->['Mike']"
   ]
  },
  {
   "cell_type": "code",
   "execution_count": 34,
   "id": "1780709d",
   "metadata": {},
   "outputs": [
    {
     "data": {
      "text/plain": [
       "<function __main__.HauntedBus.__init__(self, passengers=['Mike'])>"
      ]
     },
     "execution_count": 34,
     "metadata": {},
     "output_type": "execute_result"
    }
   ],
   "source": [
    "HauntedBus.__init__ "
   ]
  },
  {
   "cell_type": "markdown",
   "id": "35613a67",
   "metadata": {},
   "source": [
    "### 防御可变参数\n",
    "1. 建立副本"
   ]
  },
  {
   "cell_type": "markdown",
   "id": "03778998",
   "metadata": {},
   "source": [
    "# del 和垃圾回收\n",
    "1. del 语句删除名称，而不是对象。 del 命令可能会导致对象被当作垃圾回收，但是仅当删除的变量保存的是对象的最后一个引用，或者无法得到对象时\n",
    "2. 重新绑定也可能会导致对象的引用数量归零，导致对象被销毁\n",
    "3. import weakref"
   ]
  },
  {
   "cell_type": "markdown",
   "id": "2a5790e8",
   "metadata": {},
   "source": [
    "# 弱引用"
   ]
  },
  {
   "cell_type": "markdown",
   "id": "ac56d3a8",
   "metadata": {},
   "source": [
    "1. 弱引用不会增加对象的引用数量。引用的目标对象称为所指对象（referent）。因此我们说，弱引用不会妨碍所指对象被当作垃圾回收"
   ]
  },
  {
   "cell_type": "markdown",
   "id": "e5c34a2b",
   "metadata": {},
   "source": [
    "# Python对不可变类型施加的把戏\n",
    "1. 驻留\n",
    "2. 不可变元素\n",
    "3. 共享字符串"
   ]
  },
  {
   "cell_type": "code",
   "execution_count": null,
   "id": "959284b8",
   "metadata": {},
   "outputs": [],
   "source": []
  }
 ],
 "metadata": {
  "kernelspec": {
   "display_name": "py39",
   "language": "python",
   "name": "py39"
  },
  "language_info": {
   "codemirror_mode": {
    "name": "ipython",
    "version": 3
   },
   "file_extension": ".py",
   "mimetype": "text/x-python",
   "name": "python",
   "nbconvert_exporter": "python",
   "pygments_lexer": "ipython3",
   "version": "3.9.0"
  }
 },
 "nbformat": 4,
 "nbformat_minor": 5
}
